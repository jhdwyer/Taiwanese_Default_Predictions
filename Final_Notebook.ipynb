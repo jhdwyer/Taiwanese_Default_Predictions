{
 "cells": [
  {
   "cell_type": "markdown",
   "metadata": {},
   "source": [
    "# Taiwanese Default Predictions\n",
    "Author: Jaclyn Dwyer"
   ]
  },
  {
   "cell_type": "markdown",
   "metadata": {},
   "source": [
    "![CC](images/credit-card-default.jpg)"
   ]
  },
  {
   "cell_type": "markdown",
   "metadata": {},
   "source": [
    "## Overview\n",
    "This project examins data obtained from customers' credit card default payments in Taiwan. The goal of this project is to create a model that can predict whether customers will default on their payments. The models will be evaluated using F1 score in order to take into account both false negatives and false positives."
   ]
  },
  {
   "cell_type": "code",
   "execution_count": 1,
   "metadata": {},
   "outputs": [],
   "source": [
    "#import libraries\n",
    "import pandas as pd\n",
    "import numpy as np\n",
    "import matplotlib.pyplot as plt\n",
    "import seaborn as sns\n",
    "import plotly.express as px\n",
    "\n",
    "from sklearn.preprocessing import StandardScaler\n",
    "\n",
    "from sklearn.linear_model import LogisticRegression\n",
    "\n",
    "from sklearn.model_selection import train_test_split, cross_val_score, GridSearchCV\n",
    "\n",
    "from sklearn.metrics import plot_confusion_matrix, confusion_matrix, plot_roc_curve,\\\n",
    "    precision_score, recall_score, accuracy_score, f1_score, log_loss,\\\n",
    "    roc_curve, roc_auc_score, classification_report, plot_roc_curve, make_scorer\n",
    "\n",
    "from sklearn.neighbors import KNeighborsClassifier\n",
    "from sklearn.tree import DecisionTreeRegressor, DecisionTreeClassifier, plot_tree\n",
    "\n",
    "from sklearn.ensemble import BaggingClassifier, RandomForestClassifier, GradientBoostingClassifier\n",
    "\n",
    "import warnings\n",
    "warnings.filterwarnings('ignore')\n",
    "\n",
    "from imblearn.over_sampling import SMOTE\n",
    "\n",
    "from collections import Counter\n",
    "from imblearn.under_sampling import TomekLinks\n",
    "\n",
    "import scipy.stats as stats"
   ]
  },
  {
   "cell_type": "code",
   "execution_count": 3,
   "metadata": {},
   "outputs": [
    {
     "data": {
      "text/html": [
       "<div>\n",
       "<style scoped>\n",
       "    .dataframe tbody tr th:only-of-type {\n",
       "        vertical-align: middle;\n",
       "    }\n",
       "\n",
       "    .dataframe tbody tr th {\n",
       "        vertical-align: top;\n",
       "    }\n",
       "\n",
       "    .dataframe thead th {\n",
       "        text-align: right;\n",
       "    }\n",
       "</style>\n",
       "<table border=\"1\" class=\"dataframe\">\n",
       "  <thead>\n",
       "    <tr style=\"text-align: right;\">\n",
       "      <th></th>\n",
       "      <th>Unnamed: 0</th>\n",
       "      <th>X1</th>\n",
       "      <th>X2</th>\n",
       "      <th>X3</th>\n",
       "      <th>X4</th>\n",
       "      <th>X5</th>\n",
       "      <th>X6</th>\n",
       "      <th>X7</th>\n",
       "      <th>X8</th>\n",
       "      <th>X9</th>\n",
       "      <th>...</th>\n",
       "      <th>X15</th>\n",
       "      <th>X16</th>\n",
       "      <th>X17</th>\n",
       "      <th>X18</th>\n",
       "      <th>X19</th>\n",
       "      <th>X20</th>\n",
       "      <th>X21</th>\n",
       "      <th>X22</th>\n",
       "      <th>X23</th>\n",
       "      <th>Y</th>\n",
       "    </tr>\n",
       "  </thead>\n",
       "  <tbody>\n",
       "    <tr>\n",
       "      <th>0</th>\n",
       "      <td>28835</td>\n",
       "      <td>220000</td>\n",
       "      <td>2</td>\n",
       "      <td>1</td>\n",
       "      <td>2</td>\n",
       "      <td>36</td>\n",
       "      <td>0</td>\n",
       "      <td>0</td>\n",
       "      <td>0</td>\n",
       "      <td>0</td>\n",
       "      <td>...</td>\n",
       "      <td>221193</td>\n",
       "      <td>181859</td>\n",
       "      <td>184605</td>\n",
       "      <td>10000</td>\n",
       "      <td>8018</td>\n",
       "      <td>10121</td>\n",
       "      <td>6006</td>\n",
       "      <td>10987</td>\n",
       "      <td>143779</td>\n",
       "      <td>1</td>\n",
       "    </tr>\n",
       "    <tr>\n",
       "      <th>1</th>\n",
       "      <td>25329</td>\n",
       "      <td>200000</td>\n",
       "      <td>2</td>\n",
       "      <td>3</td>\n",
       "      <td>2</td>\n",
       "      <td>29</td>\n",
       "      <td>-1</td>\n",
       "      <td>-1</td>\n",
       "      <td>-1</td>\n",
       "      <td>-1</td>\n",
       "      <td>...</td>\n",
       "      <td>326</td>\n",
       "      <td>326</td>\n",
       "      <td>326</td>\n",
       "      <td>326</td>\n",
       "      <td>326</td>\n",
       "      <td>326</td>\n",
       "      <td>326</td>\n",
       "      <td>326</td>\n",
       "      <td>326</td>\n",
       "      <td>0</td>\n",
       "    </tr>\n",
       "  </tbody>\n",
       "</table>\n",
       "<p>2 rows × 25 columns</p>\n",
       "</div>"
      ],
      "text/plain": [
       "  Unnamed: 0      X1 X2 X3 X4  X5  X6  X7  X8  X9  ...     X15     X16  \\\n",
       "0      28835  220000  2  1  2  36   0   0   0   0  ...  221193  181859   \n",
       "1      25329  200000  2  3  2  29  -1  -1  -1  -1  ...     326     326   \n",
       "\n",
       "      X17    X18   X19    X20   X21    X22     X23  Y  \n",
       "0  184605  10000  8018  10121  6006  10987  143779  1  \n",
       "1     326    326   326    326   326    326     326  0  \n",
       "\n",
       "[2 rows x 25 columns]"
      ]
     },
     "execution_count": 3,
     "metadata": {},
     "output_type": "execute_result"
    }
   ],
   "source": [
    "#read in data\n",
    "df = pd.read_csv('data/training_data.csv')\n",
    "df.head(2)"
   ]
  },
  {
   "cell_type": "markdown",
   "metadata": {},
   "source": [
    "# Data Preparation"
   ]
  },
  {
   "cell_type": "markdown",
   "metadata": {},
   "source": [
    "The data is first cleaned by dropping any uneeded columns, renaming current columns, checking for missing values, and handling values that do not match the \"data dictionary\" provided."
   ]
  },
  {
   "cell_type": "code",
   "execution_count": 3,
   "metadata": {},
   "outputs": [],
   "source": [
    "#drop Unamed column since all unique\n",
    "df.drop(columns = ['Unnamed: 0'], axis = 1, inplace = True)"
   ]
  },
  {
   "cell_type": "code",
   "execution_count": 4,
   "metadata": {},
   "outputs": [],
   "source": [
    "#rename columns\n",
    "df.rename(columns = {'X1': 'credit', 'X2': 'gender', 'X3': 'education', 'X4': 'marital_status', 'X5': 'age', \n",
    "                    'X6': 'repay_sep', 'X7': 'repay_aug', 'X8': 'repay_jul', 'X9': 'repay_jun', 'X10': 'repay_may', \n",
    "                    'X11': 'repay_apr', 'X12': 'bill_sep', 'X13': 'bill_aug', 'X14': 'bill_jul', 'X15': 'bill_jun', \n",
    "                    'X16': 'bill_may', 'X17': 'bill_apr', 'X18': 'prevpay_sep', 'X19': 'prevpay_aug', 'X20': 'prevpay_jul', \n",
    "                    'X21': 'prevpay_jun', 'X22': 'prevpay_may', 'X23': 'prevpay_apr'}, inplace = True)"
   ]
  },
  {
   "cell_type": "code",
   "execution_count": 5,
   "metadata": {},
   "outputs": [
    {
     "name": "stdout",
     "output_type": "stream",
     "text": [
      "<class 'pandas.core.frame.DataFrame'>\n",
      "RangeIndex: 22500 entries, 0 to 22499\n",
      "Data columns (total 24 columns):\n",
      " #   Column          Non-Null Count  Dtype \n",
      "---  ------          --------------  ----- \n",
      " 0   credit          22500 non-null  object\n",
      " 1   gender          22500 non-null  object\n",
      " 2   education       22500 non-null  object\n",
      " 3   marital_status  22500 non-null  object\n",
      " 4   age             22500 non-null  object\n",
      " 5   repay_sep       22500 non-null  object\n",
      " 6   repay_aug       22500 non-null  object\n",
      " 7   repay_jul       22500 non-null  object\n",
      " 8   repay_jun       22500 non-null  object\n",
      " 9   repay_may       22500 non-null  object\n",
      " 10  repay_apr       22500 non-null  object\n",
      " 11  bill_sep        22500 non-null  object\n",
      " 12  bill_aug        22500 non-null  object\n",
      " 13  bill_jul        22500 non-null  object\n",
      " 14  bill_jun        22500 non-null  object\n",
      " 15  bill_may        22500 non-null  object\n",
      " 16  bill_apr        22500 non-null  object\n",
      " 17  prevpay_sep     22500 non-null  object\n",
      " 18  prevpay_aug     22500 non-null  object\n",
      " 19  prevpay_jul     22500 non-null  object\n",
      " 20  prevpay_jun     22500 non-null  object\n",
      " 21  prevpay_may     22500 non-null  object\n",
      " 22  prevpay_apr     22500 non-null  object\n",
      " 23  Y               22500 non-null  object\n",
      "dtypes: object(24)\n",
      "memory usage: 4.1+ MB\n"
     ]
    }
   ],
   "source": [
    "#info\n",
    "df.info()"
   ]
  },
  {
   "cell_type": "code",
   "execution_count": 6,
   "metadata": {
    "scrolled": true
   },
   "outputs": [
    {
     "data": {
      "text/plain": [
       "credit            0\n",
       "gender            0\n",
       "education         0\n",
       "marital_status    0\n",
       "age               0\n",
       "repay_sep         0\n",
       "repay_aug         0\n",
       "repay_jul         0\n",
       "repay_jun         0\n",
       "repay_may         0\n",
       "repay_apr         0\n",
       "bill_sep          0\n",
       "bill_aug          0\n",
       "bill_jul          0\n",
       "bill_jun          0\n",
       "bill_may          0\n",
       "bill_apr          0\n",
       "prevpay_sep       0\n",
       "prevpay_aug       0\n",
       "prevpay_jul       0\n",
       "prevpay_jun       0\n",
       "prevpay_may       0\n",
       "prevpay_apr       0\n",
       "Y                 0\n",
       "dtype: int64"
      ]
     },
     "execution_count": 6,
     "metadata": {},
     "output_type": "execute_result"
    }
   ],
   "source": [
    "#check for missing values\n",
    "df.isna().sum()"
   ]
  },
  {
   "cell_type": "markdown",
   "metadata": {},
   "source": [
    "**Gender**"
   ]
  },
  {
   "cell_type": "code",
   "execution_count": 7,
   "metadata": {
    "scrolled": false
   },
   "outputs": [
    {
     "data": {
      "text/plain": [
       "2      13572\n",
       "1       8927\n",
       "SEX        1\n",
       "Name: gender, dtype: int64"
      ]
     },
     "execution_count": 7,
     "metadata": {},
     "output_type": "execute_result"
    }
   ],
   "source": [
    "#check values gender\n",
    "df['gender'].value_counts()"
   ]
  },
  {
   "cell_type": "markdown",
   "metadata": {},
   "source": [
    "There is an unusual value of SEX in the gender values. This row is pulled up and further explored."
   ]
  },
  {
   "cell_type": "code",
   "execution_count": 8,
   "metadata": {
    "scrolled": true
   },
   "outputs": [
    {
     "data": {
      "text/html": [
       "<div>\n",
       "<style scoped>\n",
       "    .dataframe tbody tr th:only-of-type {\n",
       "        vertical-align: middle;\n",
       "    }\n",
       "\n",
       "    .dataframe tbody tr th {\n",
       "        vertical-align: top;\n",
       "    }\n",
       "\n",
       "    .dataframe thead th {\n",
       "        text-align: right;\n",
       "    }\n",
       "</style>\n",
       "<table border=\"1\" class=\"dataframe\">\n",
       "  <thead>\n",
       "    <tr style=\"text-align: right;\">\n",
       "      <th></th>\n",
       "      <th>credit</th>\n",
       "      <th>gender</th>\n",
       "      <th>education</th>\n",
       "      <th>marital_status</th>\n",
       "      <th>age</th>\n",
       "      <th>repay_sep</th>\n",
       "      <th>repay_aug</th>\n",
       "      <th>repay_jul</th>\n",
       "      <th>repay_jun</th>\n",
       "      <th>repay_may</th>\n",
       "      <th>...</th>\n",
       "      <th>bill_jun</th>\n",
       "      <th>bill_may</th>\n",
       "      <th>bill_apr</th>\n",
       "      <th>prevpay_sep</th>\n",
       "      <th>prevpay_aug</th>\n",
       "      <th>prevpay_jul</th>\n",
       "      <th>prevpay_jun</th>\n",
       "      <th>prevpay_may</th>\n",
       "      <th>prevpay_apr</th>\n",
       "      <th>Y</th>\n",
       "    </tr>\n",
       "  </thead>\n",
       "  <tbody>\n",
       "    <tr>\n",
       "      <th>18381</th>\n",
       "      <td>LIMIT_BAL</td>\n",
       "      <td>SEX</td>\n",
       "      <td>EDUCATION</td>\n",
       "      <td>MARRIAGE</td>\n",
       "      <td>AGE</td>\n",
       "      <td>PAY_0</td>\n",
       "      <td>PAY_2</td>\n",
       "      <td>PAY_3</td>\n",
       "      <td>PAY_4</td>\n",
       "      <td>PAY_5</td>\n",
       "      <td>...</td>\n",
       "      <td>BILL_AMT4</td>\n",
       "      <td>BILL_AMT5</td>\n",
       "      <td>BILL_AMT6</td>\n",
       "      <td>PAY_AMT1</td>\n",
       "      <td>PAY_AMT2</td>\n",
       "      <td>PAY_AMT3</td>\n",
       "      <td>PAY_AMT4</td>\n",
       "      <td>PAY_AMT5</td>\n",
       "      <td>PAY_AMT6</td>\n",
       "      <td>default payment next month</td>\n",
       "    </tr>\n",
       "  </tbody>\n",
       "</table>\n",
       "<p>1 rows × 24 columns</p>\n",
       "</div>"
      ],
      "text/plain": [
       "          credit gender  education marital_status  age repay_sep repay_aug  \\\n",
       "18381  LIMIT_BAL    SEX  EDUCATION       MARRIAGE  AGE     PAY_0     PAY_2   \n",
       "\n",
       "      repay_jul repay_jun repay_may  ...   bill_jun   bill_may   bill_apr  \\\n",
       "18381     PAY_3     PAY_4     PAY_5  ...  BILL_AMT4  BILL_AMT5  BILL_AMT6   \n",
       "\n",
       "      prevpay_sep prevpay_aug prevpay_jul prevpay_jun prevpay_may prevpay_apr  \\\n",
       "18381    PAY_AMT1    PAY_AMT2    PAY_AMT3    PAY_AMT4    PAY_AMT5    PAY_AMT6   \n",
       "\n",
       "                                Y  \n",
       "18381  default payment next month  \n",
       "\n",
       "[1 rows x 24 columns]"
      ]
     },
     "execution_count": 8,
     "metadata": {},
     "output_type": "execute_result"
    }
   ],
   "source": [
    "#find row with gender = SEX\n",
    "df[df['gender'] == 'SEX']"
   ]
  },
  {
   "cell_type": "markdown",
   "metadata": {},
   "source": [
    "A row with titles instead of values is found in the data. This row is dropped. "
   ]
  },
  {
   "cell_type": "code",
   "execution_count": 9,
   "metadata": {},
   "outputs": [],
   "source": [
    "#drop title row\n",
    "df.drop([18381], inplace = True)"
   ]
  },
  {
   "cell_type": "markdown",
   "metadata": {},
   "source": [
    "**Education**\n",
    "\n",
    "There is no 0 5 or 6 in the \"data dictionary\" for education. Therefore, these values are imputed to 4 which is the other category."
   ]
  },
  {
   "cell_type": "code",
   "execution_count": 10,
   "metadata": {},
   "outputs": [
    {
     "data": {
      "text/plain": [
       "2    10516\n",
       "1     7919\n",
       "3     3713\n",
       "5      208\n",
       "4       90\n",
       "6       42\n",
       "0       11\n",
       "Name: education, dtype: int64"
      ]
     },
     "execution_count": 10,
     "metadata": {},
     "output_type": "execute_result"
    }
   ],
   "source": [
    "df['education'].value_counts()"
   ]
  },
  {
   "cell_type": "code",
   "execution_count": 11,
   "metadata": {},
   "outputs": [],
   "source": [
    "#change 0, 5, & 6 in education to 4 which is 'others'\n",
    "df['education'].replace(to_replace = ['0', '6', '5'], value = '4', inplace = True)"
   ]
  },
  {
   "cell_type": "markdown",
   "metadata": {},
   "source": [
    "**Marital Status**\n",
    "\n",
    "There is no 0 in the \"data dictionary\" for marital status. Therefore, this values is imputed to 3 which is the other category."
   ]
  },
  {
   "cell_type": "code",
   "execution_count": 12,
   "metadata": {
    "scrolled": true
   },
   "outputs": [
    {
     "data": {
      "text/plain": [
       "2    12026\n",
       "1    10195\n",
       "3      234\n",
       "0       44\n",
       "Name: marital_status, dtype: int64"
      ]
     },
     "execution_count": 12,
     "metadata": {},
     "output_type": "execute_result"
    }
   ],
   "source": [
    "df['marital_status'].value_counts()"
   ]
  },
  {
   "cell_type": "code",
   "execution_count": 13,
   "metadata": {},
   "outputs": [],
   "source": [
    "#change 0 in marital status to 'others'\n",
    "df['marital_status'].replace(to_replace = '0', value = '3', inplace = True)"
   ]
  },
  {
   "cell_type": "markdown",
   "metadata": {},
   "source": [
    "**Repayment Status**\n",
    "\n",
    "There is no -2 or 0 in the \"data dictionary\" for repayment status. Therefore, these values are imputed to -1 the pay duly category as the data showed the customer had paid more or did not have a payment due. "
   ]
  },
  {
   "cell_type": "code",
   "execution_count": 14,
   "metadata": {},
   "outputs": [],
   "source": [
    "\n",
    "#change -2 and 0 to -1 \n",
    "df['repay_sep'].replace(to_replace = ['-2', '0'], value = '-1', inplace = True)\n",
    "df['repay_aug'].replace(to_replace = ['-2', '0'], value = '-1', inplace = True)\n",
    "df['repay_jul'].replace(to_replace = ['-2', '0'], value = '-1', inplace = True)\n",
    "df['repay_jun'].replace(to_replace = ['-2', '0'], value = '-1', inplace = True)\n",
    "df['repay_may'].replace(to_replace = ['-2', '0'], value = '-1', inplace = True)\n",
    "df['repay_apr'].replace(to_replace = ['-2', '0'], value = '-1', inplace = True)"
   ]
  },
  {
   "cell_type": "markdown",
   "metadata": {},
   "source": [
    "### Categorical Data"
   ]
  },
  {
   "cell_type": "markdown",
   "metadata": {},
   "source": [
    "Categorical variables are converted to dummy variables in order to run various models"
   ]
  },
  {
   "cell_type": "code",
   "execution_count": 15,
   "metadata": {},
   "outputs": [],
   "source": [
    "#Create dummies\n",
    "gender_dummies = pd.get_dummies(df['gender'], prefix = 'gen', drop_first=True)\n",
    "education_dummies = pd.get_dummies(df['education'], prefix = 'edu', drop_first=True)\n",
    "marital_status_dummies = pd.get_dummies(df['marital_status'], prefix = 'mar', drop_first=True)\n",
    "repay_sep_dummies = pd.get_dummies(df['repay_sep'], prefix = 'r_sep', drop_first=True)\n",
    "repay_aug_dummies = pd.get_dummies(df['repay_aug'], prefix = 'r_aug', drop_first=True)\n",
    "repay_jul_dummies = pd.get_dummies(df['repay_jul'], prefix = 'r_jul', drop_first=True)\n",
    "repay_jun_dummies = pd.get_dummies(df['repay_jun'], prefix = 'r_jun', drop_first=True)\n",
    "repay_may_dummies = pd.get_dummies(df['repay_may'], prefix = 'r_may', drop_first=True)\n",
    "repay_apr_dummies = pd.get_dummies(df['repay_apr'], prefix = 'r_apr', drop_first=True)\n",
    "\n",
    "dfc = pd.concat([df, gender_dummies, education_dummies, marital_status_dummies, repay_sep_dummies, repay_aug_dummies,\n",
    "                repay_jul_dummies, repay_jun_dummies, repay_may_dummies, repay_apr_dummies], \n",
    "                   axis=1)"
   ]
  },
  {
   "cell_type": "markdown",
   "metadata": {},
   "source": [
    "## Model Preparation\n",
    "\n",
    "A target variable is defined and the data is split into train and test in order to properly evaluate models. A custom scorer is created to score using F1 scores. "
   ]
  },
  {
   "cell_type": "code",
   "execution_count": 16,
   "metadata": {},
   "outputs": [],
   "source": [
    "#create target variable\n",
    "X = dfc.drop('Y', axis = 1)\n",
    "y = dfc['Y']"
   ]
  },
  {
   "cell_type": "code",
   "execution_count": 17,
   "metadata": {},
   "outputs": [],
   "source": [
    "#train test split\n",
    "X_train, X_test, y_train, y_test = train_test_split(X, y, random_state=4)"
   ]
  },
  {
   "cell_type": "code",
   "execution_count": 18,
   "metadata": {},
   "outputs": [],
   "source": [
    "#create custom scorer\n",
    "custom_scorer = make_scorer(f1_score, pos_label= '1')"
   ]
  },
  {
   "cell_type": "markdown",
   "metadata": {},
   "source": [
    "### Class Imbalance\n",
    "\n",
    "There is a class imbalance present between default and no default in the data. This will be taken into account by using a balanced class weight in the models."
   ]
  },
  {
   "cell_type": "code",
   "execution_count": 19,
   "metadata": {
    "scrolled": false
   },
   "outputs": [
    {
     "data": {
      "image/png": "[encoded data removed]",
      "text/plain": [
       "<Figure size 720x360 with 1 Axes>"
      ]
     },
     "metadata": {},
     "output_type": "display_data"
    }
   ],
   "source": [
    "# Target Variable Countplot\n",
    "sns.set_style('darkgrid')\n",
    "plt.figure(figsize = (10,5))\n",
    "sns.countplot(df['Y'], alpha =.80, palette= ['grey','lightgreen'])\n",
    "plt.title('Y')\n",
    "plt.show()"
   ]
  },
  {
   "cell_type": "markdown",
   "metadata": {},
   "source": [
    "## Models\n",
    "\n",
    "Various models are created across multiple classifcation techniques in order to try and generate a model with the highest F1 score. For each type of model, a preliminary model is created as well as a model built using Grid Search to find the best parameters."
   ]
  },
  {
   "cell_type": "markdown",
   "metadata": {},
   "source": [
    "### Logistic Regression Models"
   ]
  },
  {
   "cell_type": "markdown",
   "metadata": {},
   "source": [
    "**Preliminary Logistic Regression Model**"
   ]
  },
  {
   "cell_type": "code",
   "execution_count": 20,
   "metadata": {},
   "outputs": [
    {
     "data": {
      "text/plain": [
       "LogisticRegression(class_weight='balanced', random_state=4)"
      ]
     },
     "execution_count": 20,
     "metadata": {},
     "output_type": "execute_result"
    }
   ],
   "source": [
    "#instantiate and fit mmodel\n",
    "logreg = LogisticRegression(random_state = 4, class_weight = 'balanced')\n",
    "logreg.fit(X_train, y_train)"
   ]
  },
  {
   "cell_type": "code",
   "execution_count": 21,
   "metadata": {},
   "outputs": [],
   "source": [
    "#predict with model\n",
    "lg_pred_train = logreg.predict(X_train)\n",
    "lg_pred_test = logreg.predict(X_test)"
   ]
  },
  {
   "cell_type": "code",
   "execution_count": 22,
   "metadata": {},
   "outputs": [],
   "source": [
    "#get f1 scores\n",
    "lg_train = f1_score(y_train, lg_pred_train, pos_label = '1')\n",
    "lg_test = f1_score(y_test, lg_pred_test, pos_label = '1')"
   ]
  },
  {
   "cell_type": "code",
   "execution_count": 23,
   "metadata": {},
   "outputs": [
    {
     "data": {
      "text/html": [
       "<div>\n",
       "<style scoped>\n",
       "    .dataframe tbody tr th:only-of-type {\n",
       "        vertical-align: middle;\n",
       "    }\n",
       "\n",
       "    .dataframe tbody tr th {\n",
       "        vertical-align: top;\n",
       "    }\n",
       "\n",
       "    .dataframe thead th {\n",
       "        text-align: right;\n",
       "    }\n",
       "</style>\n",
       "<table border=\"1\" class=\"dataframe\">\n",
       "  <thead>\n",
       "    <tr style=\"text-align: right;\">\n",
       "      <th></th>\n",
       "      <th>Model</th>\n",
       "      <th>Train</th>\n",
       "      <th>Test</th>\n",
       "    </tr>\n",
       "  </thead>\n",
       "  <tbody>\n",
       "    <tr>\n",
       "      <th>0</th>\n",
       "      <td>Logistic Regression</td>\n",
       "      <td>0.396536</td>\n",
       "      <td>0.37318</td>\n",
       "    </tr>\n",
       "  </tbody>\n",
       "</table>\n",
       "</div>"
      ],
      "text/plain": [
       "                 Model     Train     Test\n",
       "0  Logistic Regression  0.396536  0.37318"
      ]
     },
     "execution_count": 23,
     "metadata": {},
     "output_type": "execute_result"
    }
   ],
   "source": [
    "#create df of scores\n",
    "scores = pd.DataFrame([['Logistic Regression', lg_train, lg_test]],\n",
    "               columns = ['Model', 'Train', 'Test'])\n",
    "scores"
   ]
  },
  {
   "cell_type": "markdown",
   "metadata": {},
   "source": [
    "**Grid Search Logistic Regression Model**"
   ]
  },
  {
   "cell_type": "code",
   "execution_count": 24,
   "metadata": {},
   "outputs": [
    {
     "data": {
      "text/plain": [
       "GridSearchCV(cv=3,\n",
       "             estimator=LogisticRegression(class_weight='balanced',\n",
       "                                          random_state=4),\n",
       "             param_grid={'C': [0.001, 0.01, 0.1, 1.0],\n",
       "                         'class_weight': ['balanced'],\n",
       "                         'penalty': ['l1', 'l2', 'elasticnet', None],\n",
       "                         'random_state': [4],\n",
       "                         'solver': ['newton-cg', 'lbfgs', 'liblinear', 'sag',\n",
       "                                    'saga']},\n",
       "             scoring=make_scorer(f1_score, pos_label=1))"
      ]
     },
     "execution_count": 24,
     "metadata": {},
     "output_type": "execute_result"
    }
   ],
   "source": [
    "#dict of parameters\n",
    "grid = {'random_state': [4],\n",
    "    'penalty':['l1', 'l2', 'elasticnet', None],\n",
    "    'C': [.001, .01, .1, 1.0],\n",
    "    'class_weight':['balanced'],\n",
    "    'solver': ['newton-cg', 'lbfgs', 'liblinear', 'sag', 'saga']\n",
    "}\n",
    "\n",
    "#instantiate and fit grid search\n",
    "gs = GridSearchCV(estimator=logreg, param_grid=grid, cv=3, scoring = custom_scorer)\n",
    "gs.fit(X_train, y_train)"
   ]
  },
  {
   "cell_type": "code",
   "execution_count": 25,
   "metadata": {},
   "outputs": [
    {
     "data": {
      "text/plain": [
       "{'C': 1.0,\n",
       " 'class_weight': 'balanced',\n",
       " 'penalty': 'l1',\n",
       " 'random_state': 4,\n",
       " 'solver': 'liblinear'}"
      ]
     },
     "execution_count": 25,
     "metadata": {},
     "output_type": "execute_result"
    }
   ],
   "source": [
    "#get best parameters\n",
    "gs.best_params_"
   ]
  },
  {
   "cell_type": "code",
   "execution_count": 26,
   "metadata": {},
   "outputs": [
    {
     "data": {
      "text/plain": [
       "LogisticRegression(class_weight='balanced', random_state=4, solver='liblinear')"
      ]
     },
     "execution_count": 26,
     "metadata": {},
     "output_type": "execute_result"
    }
   ],
   "source": [
    "#instantiate and fit best params model\n",
    "gs_logreg = LogisticRegression(random_state = 4, \n",
    "                               class_weight = 'balanced', \n",
    "                               C = 1.0, \n",
    "                               penalty = 'l2', \n",
    "                              solver = 'liblinear')\n",
    "gs_logreg.fit(X_train, y_train)"
   ]
  },
  {
   "cell_type": "code",
   "execution_count": 27,
   "metadata": {},
   "outputs": [],
   "source": [
    "#predict with model\n",
    "gs_lg_pred_train = gs_logreg.predict(X_train)\n",
    "gs_lg_pred_test = gs_logreg.predict(X_test)"
   ]
  },
  {
   "cell_type": "code",
   "execution_count": 28,
   "metadata": {},
   "outputs": [],
   "source": [
    "#get f1 scores\n",
    "gs_lg_train = f1_score(y_train, gs_lg_pred_train, pos_label = '1')\n",
    "gs_lg_test = f1_score(y_test, gs_lg_pred_test, pos_label = '1')"
   ]
  },
  {
   "cell_type": "code",
   "execution_count": 29,
   "metadata": {},
   "outputs": [
    {
     "data": {
      "text/html": [
       "<div>\n",
       "<style scoped>\n",
       "    .dataframe tbody tr th:only-of-type {\n",
       "        vertical-align: middle;\n",
       "    }\n",
       "\n",
       "    .dataframe tbody tr th {\n",
       "        vertical-align: top;\n",
       "    }\n",
       "\n",
       "    .dataframe thead th {\n",
       "        text-align: right;\n",
       "    }\n",
       "</style>\n",
       "<table border=\"1\" class=\"dataframe\">\n",
       "  <thead>\n",
       "    <tr style=\"text-align: right;\">\n",
       "      <th></th>\n",
       "      <th>Model</th>\n",
       "      <th>Train</th>\n",
       "      <th>Test</th>\n",
       "    </tr>\n",
       "  </thead>\n",
       "  <tbody>\n",
       "    <tr>\n",
       "      <th>0</th>\n",
       "      <td>Logistic Regression</td>\n",
       "      <td>0.396536</td>\n",
       "      <td>0.373180</td>\n",
       "    </tr>\n",
       "    <tr>\n",
       "      <th>1</th>\n",
       "      <td>Grid Search Logistic Regression</td>\n",
       "      <td>0.534077</td>\n",
       "      <td>0.516277</td>\n",
       "    </tr>\n",
       "  </tbody>\n",
       "</table>\n",
       "</div>"
      ],
      "text/plain": [
       "                             Model     Train      Test\n",
       "0              Logistic Regression  0.396536  0.373180\n",
       "1  Grid Search Logistic Regression  0.534077  0.516277"
      ]
     },
     "execution_count": 29,
     "metadata": {},
     "output_type": "execute_result"
    }
   ],
   "source": [
    "#add scores to df\n",
    "gs_lg_model = pd.DataFrame([['Grid Search Logistic Regression', gs_lg_train, gs_lg_test]],\n",
    "               columns = ['Model', 'Train', 'Test'])\n",
    "scores = scores.append(gs_lg_model, ignore_index = True)\n",
    "scores"
   ]
  },
  {
   "cell_type": "markdown",
   "metadata": {},
   "source": [
    "### KNN"
   ]
  },
  {
   "cell_type": "markdown",
   "metadata": {},
   "source": [
    "**Preliminary KNN Model**"
   ]
  },
  {
   "cell_type": "code",
   "execution_count": 30,
   "metadata": {},
   "outputs": [
    {
     "data": {
      "text/plain": [
       "KNeighborsClassifier()"
      ]
     },
     "execution_count": 30,
     "metadata": {},
     "output_type": "execute_result"
    }
   ],
   "source": [
    "#instantiate and fit model\n",
    "knn = KNeighborsClassifier()\n",
    "knn.fit(X_train, y_train)"
   ]
  },
  {
   "cell_type": "code",
   "execution_count": 31,
   "metadata": {},
   "outputs": [],
   "source": [
    "#predict with model\n",
    "knn_pred_train = knn.predict(X_train)\n",
    "knn_pred_test = knn.predict(X_test)"
   ]
  },
  {
   "cell_type": "code",
   "execution_count": 32,
   "metadata": {},
   "outputs": [],
   "source": [
    "#get f1 scores\n",
    "knn_train = f1_score(y_train, knn_pred_train, pos_label = '1')\n",
    "knn_test = f1_score(y_test, knn_pred_test, pos_label = '1')"
   ]
  },
  {
   "cell_type": "code",
   "execution_count": 33,
   "metadata": {},
   "outputs": [
    {
     "data": {
      "text/html": [
       "<div>\n",
       "<style scoped>\n",
       "    .dataframe tbody tr th:only-of-type {\n",
       "        vertical-align: middle;\n",
       "    }\n",
       "\n",
       "    .dataframe tbody tr th {\n",
       "        vertical-align: top;\n",
       "    }\n",
       "\n",
       "    .dataframe thead th {\n",
       "        text-align: right;\n",
       "    }\n",
       "</style>\n",
       "<table border=\"1\" class=\"dataframe\">\n",
       "  <thead>\n",
       "    <tr style=\"text-align: right;\">\n",
       "      <th></th>\n",
       "      <th>Model</th>\n",
       "      <th>Train</th>\n",
       "      <th>Test</th>\n",
       "    </tr>\n",
       "  </thead>\n",
       "  <tbody>\n",
       "    <tr>\n",
       "      <th>0</th>\n",
       "      <td>Logistic Regression</td>\n",
       "      <td>0.396536</td>\n",
       "      <td>0.373180</td>\n",
       "    </tr>\n",
       "    <tr>\n",
       "      <th>1</th>\n",
       "      <td>Grid Search Logistic Regression</td>\n",
       "      <td>0.534077</td>\n",
       "      <td>0.516277</td>\n",
       "    </tr>\n",
       "    <tr>\n",
       "      <th>2</th>\n",
       "      <td>KNN</td>\n",
       "      <td>0.430023</td>\n",
       "      <td>0.248096</td>\n",
       "    </tr>\n",
       "  </tbody>\n",
       "</table>\n",
       "</div>"
      ],
      "text/plain": [
       "                             Model     Train      Test\n",
       "0              Logistic Regression  0.396536  0.373180\n",
       "1  Grid Search Logistic Regression  0.534077  0.516277\n",
       "2                              KNN  0.430023  0.248096"
      ]
     },
     "execution_count": 33,
     "metadata": {},
     "output_type": "execute_result"
    }
   ],
   "source": [
    "#add scores to df\n",
    "knn_model = pd.DataFrame([['KNN', knn_train, knn_test]],\n",
    "               columns = ['Model', 'Train', 'Test'])\n",
    "scores = scores.append(knn_model, ignore_index = True)\n",
    "scores"
   ]
  },
  {
   "cell_type": "markdown",
   "metadata": {},
   "source": [
    "**Preliminary KNN SMOTE Model**"
   ]
  },
  {
   "cell_type": "markdown",
   "metadata": {},
   "source": [
    "A KNN model with SMOTE accounting for class imbalance is created to try and improve the F1 score."
   ]
  },
  {
   "cell_type": "code",
   "execution_count": 34,
   "metadata": {},
   "outputs": [],
   "source": [
    "#apply SMOTE\n",
    "sm = SMOTE(random_state=4)\n",
    "X_train_smote, y_train_smote = sm.fit_sample(X_train, y_train)"
   ]
  },
  {
   "cell_type": "code",
   "execution_count": 35,
   "metadata": {},
   "outputs": [
    {
     "data": {
      "text/plain": [
       "KNeighborsClassifier()"
      ]
     },
     "execution_count": 35,
     "metadata": {},
     "output_type": "execute_result"
    }
   ],
   "source": [
    "#instantiate and fit model\n",
    "knn_sm = KNeighborsClassifier()\n",
    "knn_sm.fit(X_train_smote, y_train_smote)"
   ]
  },
  {
   "cell_type": "code",
   "execution_count": 36,
   "metadata": {},
   "outputs": [],
   "source": [
    "#predict with model\n",
    "knn_sm_pred_train = knn_sm.predict(X_train_smote)\n",
    "knn_sm_pred_test = knn_sm.predict(X_test)"
   ]
  },
  {
   "cell_type": "code",
   "execution_count": 37,
   "metadata": {},
   "outputs": [],
   "source": [
    "#get f1 score\n",
    "knn_sm_train = f1_score(y_train_smote, knn_sm_pred_train, pos_label = '1')\n",
    "knn_sm_test = f1_score(y_test, knn_sm_pred_test, pos_label = '1')"
   ]
  },
  {
   "cell_type": "code",
   "execution_count": 38,
   "metadata": {},
   "outputs": [
    {
     "data": {
      "text/html": [
       "<div>\n",
       "<style scoped>\n",
       "    .dataframe tbody tr th:only-of-type {\n",
       "        vertical-align: middle;\n",
       "    }\n",
       "\n",
       "    .dataframe tbody tr th {\n",
       "        vertical-align: top;\n",
       "    }\n",
       "\n",
       "    .dataframe thead th {\n",
       "        text-align: right;\n",
       "    }\n",
       "</style>\n",
       "<table border=\"1\" class=\"dataframe\">\n",
       "  <thead>\n",
       "    <tr style=\"text-align: right;\">\n",
       "      <th></th>\n",
       "      <th>Model</th>\n",
       "      <th>Train</th>\n",
       "      <th>Test</th>\n",
       "    </tr>\n",
       "  </thead>\n",
       "  <tbody>\n",
       "    <tr>\n",
       "      <th>0</th>\n",
       "      <td>Logistic Regression</td>\n",
       "      <td>0.396536</td>\n",
       "      <td>0.373180</td>\n",
       "    </tr>\n",
       "    <tr>\n",
       "      <th>1</th>\n",
       "      <td>Grid Search Logistic Regression</td>\n",
       "      <td>0.534077</td>\n",
       "      <td>0.516277</td>\n",
       "    </tr>\n",
       "    <tr>\n",
       "      <th>2</th>\n",
       "      <td>KNN</td>\n",
       "      <td>0.430023</td>\n",
       "      <td>0.248096</td>\n",
       "    </tr>\n",
       "    <tr>\n",
       "      <th>3</th>\n",
       "      <td>KNN SMOTE</td>\n",
       "      <td>0.856384</td>\n",
       "      <td>0.367676</td>\n",
       "    </tr>\n",
       "  </tbody>\n",
       "</table>\n",
       "</div>"
      ],
      "text/plain": [
       "                             Model     Train      Test\n",
       "0              Logistic Regression  0.396536  0.373180\n",
       "1  Grid Search Logistic Regression  0.534077  0.516277\n",
       "2                              KNN  0.430023  0.248096\n",
       "3                        KNN SMOTE  0.856384  0.367676"
      ]
     },
     "execution_count": 38,
     "metadata": {},
     "output_type": "execute_result"
    }
   ],
   "source": [
    "#add scores to df\n",
    "knn_sm_model = pd.DataFrame([['KNN SMOTE', knn_sm_train, knn_sm_test]],\n",
    "               columns = ['Model', 'Train', 'Test'])\n",
    "scores = scores.append(knn_sm_model, ignore_index = True)\n",
    "scores"
   ]
  },
  {
   "cell_type": "markdown",
   "metadata": {},
   "source": [
    "**Grid Search KNN SMOTE Model**"
   ]
  },
  {
   "cell_type": "code",
   "execution_count": 39,
   "metadata": {},
   "outputs": [],
   "source": [
    "#get dict of parameters\n",
    "knn_grid = {\n",
    "    'n_neighbors':[3,5,11,19],\n",
    "    'weights':['uniform','distance'],\n",
    "    'metric':['euclidean','manhattan']\n",
    "}\n",
    "\n",
    "#instantiate Grid Search model\n",
    "knn_gs = GridSearchCV(estimator=knn_sm, param_grid = knn_grid, verbose=1 ,cv=3, n_jobs = -1, scoring = custom_scorer)"
   ]
  },
  {
   "cell_type": "code",
   "execution_count": 40,
   "metadata": {
    "scrolled": true
   },
   "outputs": [
    {
     "name": "stdout",
     "output_type": "stream",
     "text": [
      "Fitting 3 folds for each of 16 candidates, totalling 48 fits\n"
     ]
    },
    {
     "name": "stderr",
     "output_type": "stream",
     "text": [
      "[Parallel(n_jobs=-1)]: Using backend LokyBackend with 4 concurrent workers.\n",
      "[Parallel(n_jobs=-1)]: Done  48 out of  48 | elapsed: 32.8min finished\n"
     ]
    },
    {
     "data": {
      "text/plain": [
       "GridSearchCV(cv=3, estimator=KNeighborsClassifier(), n_jobs=-1,\n",
       "             param_grid={'metric': ['euclidean', 'manhattan'],\n",
       "                         'n_neighbors': [3, 5, 11, 19],\n",
       "                         'weights': ['uniform', 'distance']},\n",
       "             scoring=make_scorer(f1_score, pos_label=1), verbose=1)"
      ]
     },
     "execution_count": 40,
     "metadata": {},
     "output_type": "execute_result"
    }
   ],
   "source": [
    "#fit GridSearch model\n",
    "knn_gs.fit(X_train_smote, y_train_smote)"
   ]
  },
  {
   "cell_type": "code",
   "execution_count": 41,
   "metadata": {},
   "outputs": [
    {
     "data": {
      "text/plain": [
       "KNeighborsClassifier(metric='manhattan', n_neighbors=3, weights='distance')"
      ]
     },
     "execution_count": 41,
     "metadata": {},
     "output_type": "execute_result"
    }
   ],
   "source": [
    "knn_gs.best_estimator_"
   ]
  },
  {
   "cell_type": "code",
   "execution_count": 42,
   "metadata": {},
   "outputs": [
    {
     "data": {
      "text/plain": [
       "KNeighborsClassifier(metric='manhattan', n_neighbors=3, weights='distance')"
      ]
     },
     "execution_count": 42,
     "metadata": {},
     "output_type": "execute_result"
    }
   ],
   "source": [
    "#instantiate and fit best params model\n",
    "gs_knn_sm = KNeighborsClassifier(metric='manhattan', n_neighbors=3, weights='distance')\n",
    "gs_knn_sm.fit(X_train_smote, y_train_smote)"
   ]
  },
  {
   "cell_type": "code",
   "execution_count": 43,
   "metadata": {},
   "outputs": [],
   "source": [
    "#predicgt with model\n",
    "gs_knn_sm_pred_train = gs_knn_sm.predict(X_train_smote)\n",
    "gs_knn_sm_pred_test = gs_knn_sm.predict(X_test)"
   ]
  },
  {
   "cell_type": "code",
   "execution_count": 44,
   "metadata": {},
   "outputs": [],
   "source": [
    "#get f1 score\n",
    "gs_knn_sm_train = f1_score(y_train_smote, gs_knn_sm_pred_train, pos_label = '1')\n",
    "gs_knn_sm_test = f1_score(y_test, gs_knn_sm_pred_test, pos_label = '1')"
   ]
  },
  {
   "cell_type": "code",
   "execution_count": 45,
   "metadata": {},
   "outputs": [
    {
     "data": {
      "text/html": [
       "<div>\n",
       "<style scoped>\n",
       "    .dataframe tbody tr th:only-of-type {\n",
       "        vertical-align: middle;\n",
       "    }\n",
       "\n",
       "    .dataframe tbody tr th {\n",
       "        vertical-align: top;\n",
       "    }\n",
       "\n",
       "    .dataframe thead th {\n",
       "        text-align: right;\n",
       "    }\n",
       "</style>\n",
       "<table border=\"1\" class=\"dataframe\">\n",
       "  <thead>\n",
       "    <tr style=\"text-align: right;\">\n",
       "      <th></th>\n",
       "      <th>Model</th>\n",
       "      <th>Train</th>\n",
       "      <th>Test</th>\n",
       "    </tr>\n",
       "  </thead>\n",
       "  <tbody>\n",
       "    <tr>\n",
       "      <th>0</th>\n",
       "      <td>Logistic Regression</td>\n",
       "      <td>0.396536</td>\n",
       "      <td>0.373180</td>\n",
       "    </tr>\n",
       "    <tr>\n",
       "      <th>1</th>\n",
       "      <td>Grid Search Logistic Regression</td>\n",
       "      <td>0.534077</td>\n",
       "      <td>0.516277</td>\n",
       "    </tr>\n",
       "    <tr>\n",
       "      <th>2</th>\n",
       "      <td>KNN</td>\n",
       "      <td>0.430023</td>\n",
       "      <td>0.248096</td>\n",
       "    </tr>\n",
       "    <tr>\n",
       "      <th>3</th>\n",
       "      <td>KNN SMOTE</td>\n",
       "      <td>0.856384</td>\n",
       "      <td>0.367676</td>\n",
       "    </tr>\n",
       "    <tr>\n",
       "      <th>4</th>\n",
       "      <td>Grid Search KNN SMOTE</td>\n",
       "      <td>0.999656</td>\n",
       "      <td>0.348407</td>\n",
       "    </tr>\n",
       "  </tbody>\n",
       "</table>\n",
       "</div>"
      ],
      "text/plain": [
       "                             Model     Train      Test\n",
       "0              Logistic Regression  0.396536  0.373180\n",
       "1  Grid Search Logistic Regression  0.534077  0.516277\n",
       "2                              KNN  0.430023  0.248096\n",
       "3                        KNN SMOTE  0.856384  0.367676\n",
       "4            Grid Search KNN SMOTE  0.999656  0.348407"
      ]
     },
     "execution_count": 45,
     "metadata": {},
     "output_type": "execute_result"
    }
   ],
   "source": [
    "#add scores to df\n",
    "gs_knn_sm_model = pd.DataFrame([['Grid Search KNN SMOTE', gs_knn_sm_train, gs_knn_sm_test]],\n",
    "               columns = ['Model', 'Train', 'Test'])\n",
    "scores = scores.append(gs_knn_sm_model, ignore_index = True)\n",
    "scores"
   ]
  },
  {
   "cell_type": "markdown",
   "metadata": {},
   "source": [
    "### Decision Tree"
   ]
  },
  {
   "cell_type": "markdown",
   "metadata": {},
   "source": [
    "**Preliminary Decision Tree Model**"
   ]
  },
  {
   "cell_type": "code",
   "execution_count": 46,
   "metadata": {},
   "outputs": [
    {
     "data": {
      "text/plain": [
       "DecisionTreeClassifier(class_weight='balanced', random_state=4)"
      ]
     },
     "execution_count": 46,
     "metadata": {},
     "output_type": "execute_result"
    }
   ],
   "source": [
    "#instantiate and fit model\n",
    "tree = DecisionTreeClassifier(random_state = 4, class_weight = 'balanced') \n",
    "tree.fit(X_train, y_train)"
   ]
  },
  {
   "cell_type": "code",
   "execution_count": 47,
   "metadata": {},
   "outputs": [],
   "source": [
    "#predict with model\n",
    "dt_pred_train = tree.predict(X_train)\n",
    "dt_pred_test = tree.predict(X_test)"
   ]
  },
  {
   "cell_type": "code",
   "execution_count": 48,
   "metadata": {},
   "outputs": [],
   "source": [
    "#get f1 score\n",
    "tree_train = f1_score(y_train, dt_pred_train, pos_label = '1')\n",
    "tree_test = f1_score(y_test, dt_pred_test, pos_label = '1')"
   ]
  },
  {
   "cell_type": "code",
   "execution_count": 49,
   "metadata": {},
   "outputs": [
    {
     "data": {
      "text/html": [
       "<div>\n",
       "<style scoped>\n",
       "    .dataframe tbody tr th:only-of-type {\n",
       "        vertical-align: middle;\n",
       "    }\n",
       "\n",
       "    .dataframe tbody tr th {\n",
       "        vertical-align: top;\n",
       "    }\n",
       "\n",
       "    .dataframe thead th {\n",
       "        text-align: right;\n",
       "    }\n",
       "</style>\n",
       "<table border=\"1\" class=\"dataframe\">\n",
       "  <thead>\n",
       "    <tr style=\"text-align: right;\">\n",
       "      <th></th>\n",
       "      <th>Model</th>\n",
       "      <th>Train</th>\n",
       "      <th>Test</th>\n",
       "    </tr>\n",
       "  </thead>\n",
       "  <tbody>\n",
       "    <tr>\n",
       "      <th>0</th>\n",
       "      <td>Logistic Regression</td>\n",
       "      <td>0.396536</td>\n",
       "      <td>0.373180</td>\n",
       "    </tr>\n",
       "    <tr>\n",
       "      <th>1</th>\n",
       "      <td>Grid Search Logistic Regression</td>\n",
       "      <td>0.534077</td>\n",
       "      <td>0.516277</td>\n",
       "    </tr>\n",
       "    <tr>\n",
       "      <th>2</th>\n",
       "      <td>KNN</td>\n",
       "      <td>0.430023</td>\n",
       "      <td>0.248096</td>\n",
       "    </tr>\n",
       "    <tr>\n",
       "      <th>3</th>\n",
       "      <td>KNN SMOTE</td>\n",
       "      <td>0.856384</td>\n",
       "      <td>0.367676</td>\n",
       "    </tr>\n",
       "    <tr>\n",
       "      <th>4</th>\n",
       "      <td>Grid Search KNN SMOTE</td>\n",
       "      <td>0.999656</td>\n",
       "      <td>0.348407</td>\n",
       "    </tr>\n",
       "    <tr>\n",
       "      <th>5</th>\n",
       "      <td>Decision Tree</td>\n",
       "      <td>0.998684</td>\n",
       "      <td>0.389431</td>\n",
       "    </tr>\n",
       "  </tbody>\n",
       "</table>\n",
       "</div>"
      ],
      "text/plain": [
       "                             Model     Train      Test\n",
       "0              Logistic Regression  0.396536  0.373180\n",
       "1  Grid Search Logistic Regression  0.534077  0.516277\n",
       "2                              KNN  0.430023  0.248096\n",
       "3                        KNN SMOTE  0.856384  0.367676\n",
       "4            Grid Search KNN SMOTE  0.999656  0.348407\n",
       "5                    Decision Tree  0.998684  0.389431"
      ]
     },
     "execution_count": 49,
     "metadata": {},
     "output_type": "execute_result"
    }
   ],
   "source": [
    "#add scores to df\n",
    "tree_model = pd.DataFrame([['Decision Tree', tree_train, tree_test]],\n",
    "               columns = ['Model', 'Train', 'Test'])\n",
    "scores = scores.append(tree_model, ignore_index = True)\n",
    "scores"
   ]
  },
  {
   "cell_type": "markdown",
   "metadata": {},
   "source": [
    "**Grid Search Decision Tree**"
   ]
  },
  {
   "cell_type": "code",
   "execution_count": 50,
   "metadata": {},
   "outputs": [],
   "source": [
    "#get dict of params\n",
    "tree_params_grid ={\n",
    "    'criterion':['gini', 'entropy'],\n",
    "    'max_depth':[None, 5, 3, 2],\n",
    "    'min_samples_split': [2,10,20],\n",
    "    'random_state': [4], \n",
    "    'class_weight':['balanced']\n",
    "}\n",
    "\n",
    "#instantiate gridsearch\n",
    "gs_tree = GridSearchCV(estimator = tree, param_grid = tree_params_grid, scoring = custom_scorer)"
   ]
  },
  {
   "cell_type": "code",
   "execution_count": 51,
   "metadata": {},
   "outputs": [
    {
     "data": {
      "text/plain": [
       "GridSearchCV(estimator=DecisionTreeClassifier(class_weight='balanced',\n",
       "                                              random_state=4),\n",
       "             param_grid={'class_weight': ['balanced'],\n",
       "                         'criterion': ['gini', 'entropy'],\n",
       "                         'max_depth': [None, 5, 3, 2],\n",
       "                         'min_samples_split': [2, 10, 20],\n",
       "                         'random_state': [4]},\n",
       "             scoring=make_scorer(f1_score, pos_label=1))"
      ]
     },
     "execution_count": 51,
     "metadata": {},
     "output_type": "execute_result"
    }
   ],
   "source": [
    "#fit grid search\n",
    "gs_tree.fit(X_train, y_train)"
   ]
  },
  {
   "cell_type": "code",
   "execution_count": 52,
   "metadata": {},
   "outputs": [
    {
     "data": {
      "text/plain": [
       "DecisionTreeClassifier(class_weight='balanced', max_depth=5,\n",
       "                       min_samples_split=20, random_state=4)"
      ]
     },
     "execution_count": 52,
     "metadata": {},
     "output_type": "execute_result"
    }
   ],
   "source": [
    "#instantiate and fit best params model\n",
    "gs_tree_model = gs_tree.best_estimator_\n",
    "gs_tree_model.fit(X_train, y_train)"
   ]
  },
  {
   "cell_type": "code",
   "execution_count": 53,
   "metadata": {},
   "outputs": [],
   "source": [
    "#predict with model\n",
    "gstree_pred_train = gs_tree_model.predict(X_train)\n",
    "gstree_pred_test = gs_tree_model.predict(X_test)"
   ]
  },
  {
   "cell_type": "code",
   "execution_count": 54,
   "metadata": {},
   "outputs": [],
   "source": [
    "#get f1 scores\n",
    "gs_tree_train = f1_score(y_train, gstree_pred_train, pos_label = '1')\n",
    "gs_tree_test = f1_score(y_test, gstree_pred_test, pos_label = '1')"
   ]
  },
  {
   "cell_type": "code",
   "execution_count": 55,
   "metadata": {},
   "outputs": [
    {
     "data": {
      "text/html": [
       "<div>\n",
       "<style scoped>\n",
       "    .dataframe tbody tr th:only-of-type {\n",
       "        vertical-align: middle;\n",
       "    }\n",
       "\n",
       "    .dataframe tbody tr th {\n",
       "        vertical-align: top;\n",
       "    }\n",
       "\n",
       "    .dataframe thead th {\n",
       "        text-align: right;\n",
       "    }\n",
       "</style>\n",
       "<table border=\"1\" class=\"dataframe\">\n",
       "  <thead>\n",
       "    <tr style=\"text-align: right;\">\n",
       "      <th></th>\n",
       "      <th>Model</th>\n",
       "      <th>Train</th>\n",
       "      <th>Test</th>\n",
       "    </tr>\n",
       "  </thead>\n",
       "  <tbody>\n",
       "    <tr>\n",
       "      <th>0</th>\n",
       "      <td>Logistic Regression</td>\n",
       "      <td>0.396536</td>\n",
       "      <td>0.373180</td>\n",
       "    </tr>\n",
       "    <tr>\n",
       "      <th>1</th>\n",
       "      <td>Grid Search Logistic Regression</td>\n",
       "      <td>0.534077</td>\n",
       "      <td>0.516277</td>\n",
       "    </tr>\n",
       "    <tr>\n",
       "      <th>2</th>\n",
       "      <td>KNN</td>\n",
       "      <td>0.430023</td>\n",
       "      <td>0.248096</td>\n",
       "    </tr>\n",
       "    <tr>\n",
       "      <th>3</th>\n",
       "      <td>KNN SMOTE</td>\n",
       "      <td>0.856384</td>\n",
       "      <td>0.367676</td>\n",
       "    </tr>\n",
       "    <tr>\n",
       "      <th>4</th>\n",
       "      <td>Grid Search KNN SMOTE</td>\n",
       "      <td>0.999656</td>\n",
       "      <td>0.348407</td>\n",
       "    </tr>\n",
       "    <tr>\n",
       "      <th>5</th>\n",
       "      <td>Decision Tree</td>\n",
       "      <td>0.998684</td>\n",
       "      <td>0.389431</td>\n",
       "    </tr>\n",
       "    <tr>\n",
       "      <th>6</th>\n",
       "      <td>Grid Search Decision Tree</td>\n",
       "      <td>0.539545</td>\n",
       "      <td>0.511298</td>\n",
       "    </tr>\n",
       "  </tbody>\n",
       "</table>\n",
       "</div>"
      ],
      "text/plain": [
       "                             Model     Train      Test\n",
       "0              Logistic Regression  0.396536  0.373180\n",
       "1  Grid Search Logistic Regression  0.534077  0.516277\n",
       "2                              KNN  0.430023  0.248096\n",
       "3                        KNN SMOTE  0.856384  0.367676\n",
       "4            Grid Search KNN SMOTE  0.999656  0.348407\n",
       "5                    Decision Tree  0.998684  0.389431\n",
       "6        Grid Search Decision Tree  0.539545  0.511298"
      ]
     },
     "execution_count": 55,
     "metadata": {},
     "output_type": "execute_result"
    }
   ],
   "source": [
    "#add scores to df\n",
    "gs_tree_model = pd.DataFrame([['Grid Search Decision Tree', gs_tree_train, gs_tree_test]],\n",
    "               columns = ['Model', 'Train', 'Test'])\n",
    "scores = scores.append(gs_tree_model, ignore_index = True)\n",
    "scores"
   ]
  },
  {
   "cell_type": "markdown",
   "metadata": {},
   "source": [
    "### Random Forest Models"
   ]
  },
  {
   "cell_type": "markdown",
   "metadata": {},
   "source": [
    "**Preliminary Random Forest Model**"
   ]
  },
  {
   "cell_type": "code",
   "execution_count": 56,
   "metadata": {},
   "outputs": [
    {
     "data": {
      "text/plain": [
       "RandomForestClassifier(class_weight='balanced', random_state=4)"
      ]
     },
     "execution_count": 56,
     "metadata": {},
     "output_type": "execute_result"
    }
   ],
   "source": [
    "#instantiate and fit model\n",
    "forest = RandomForestClassifier(random_state = 4, class_weight = 'balanced')\n",
    "forest.fit(X_train, y_train)"
   ]
  },
  {
   "cell_type": "code",
   "execution_count": 57,
   "metadata": {},
   "outputs": [],
   "source": [
    "#predict with model\n",
    "forest_pred_train = forest.predict(X_train)\n",
    "forest_pred_test = forest.predict(X_test)"
   ]
  },
  {
   "cell_type": "code",
   "execution_count": 58,
   "metadata": {},
   "outputs": [],
   "source": [
    "#get f1 scores\n",
    "forest_train = f1_score(y_train, forest_pred_train, pos_label = '1')\n",
    "forest_test = f1_score(y_test, forest_pred_test, pos_label = '1')"
   ]
  },
  {
   "cell_type": "code",
   "execution_count": 59,
   "metadata": {},
   "outputs": [
    {
     "data": {
      "text/html": [
       "<div>\n",
       "<style scoped>\n",
       "    .dataframe tbody tr th:only-of-type {\n",
       "        vertical-align: middle;\n",
       "    }\n",
       "\n",
       "    .dataframe tbody tr th {\n",
       "        vertical-align: top;\n",
       "    }\n",
       "\n",
       "    .dataframe thead th {\n",
       "        text-align: right;\n",
       "    }\n",
       "</style>\n",
       "<table border=\"1\" class=\"dataframe\">\n",
       "  <thead>\n",
       "    <tr style=\"text-align: right;\">\n",
       "      <th></th>\n",
       "      <th>Model</th>\n",
       "      <th>Train</th>\n",
       "      <th>Test</th>\n",
       "    </tr>\n",
       "  </thead>\n",
       "  <tbody>\n",
       "    <tr>\n",
       "      <th>0</th>\n",
       "      <td>Logistic Regression</td>\n",
       "      <td>0.396536</td>\n",
       "      <td>0.373180</td>\n",
       "    </tr>\n",
       "    <tr>\n",
       "      <th>1</th>\n",
       "      <td>Grid Search Logistic Regression</td>\n",
       "      <td>0.534077</td>\n",
       "      <td>0.516277</td>\n",
       "    </tr>\n",
       "    <tr>\n",
       "      <th>2</th>\n",
       "      <td>KNN</td>\n",
       "      <td>0.430023</td>\n",
       "      <td>0.248096</td>\n",
       "    </tr>\n",
       "    <tr>\n",
       "      <th>3</th>\n",
       "      <td>KNN SMOTE</td>\n",
       "      <td>0.856384</td>\n",
       "      <td>0.367676</td>\n",
       "    </tr>\n",
       "    <tr>\n",
       "      <th>4</th>\n",
       "      <td>Grid Search KNN SMOTE</td>\n",
       "      <td>0.999656</td>\n",
       "      <td>0.348407</td>\n",
       "    </tr>\n",
       "    <tr>\n",
       "      <th>5</th>\n",
       "      <td>Decision Tree</td>\n",
       "      <td>0.998684</td>\n",
       "      <td>0.389431</td>\n",
       "    </tr>\n",
       "    <tr>\n",
       "      <th>6</th>\n",
       "      <td>Grid Search Decision Tree</td>\n",
       "      <td>0.539545</td>\n",
       "      <td>0.511298</td>\n",
       "    </tr>\n",
       "    <tr>\n",
       "      <th>7</th>\n",
       "      <td>Random Forest</td>\n",
       "      <td>0.998815</td>\n",
       "      <td>0.469792</td>\n",
       "    </tr>\n",
       "  </tbody>\n",
       "</table>\n",
       "</div>"
      ],
      "text/plain": [
       "                             Model     Train      Test\n",
       "0              Logistic Regression  0.396536  0.373180\n",
       "1  Grid Search Logistic Regression  0.534077  0.516277\n",
       "2                              KNN  0.430023  0.248096\n",
       "3                        KNN SMOTE  0.856384  0.367676\n",
       "4            Grid Search KNN SMOTE  0.999656  0.348407\n",
       "5                    Decision Tree  0.998684  0.389431\n",
       "6        Grid Search Decision Tree  0.539545  0.511298\n",
       "7                    Random Forest  0.998815  0.469792"
      ]
     },
     "execution_count": 59,
     "metadata": {},
     "output_type": "execute_result"
    }
   ],
   "source": [
    "#add scores to df\n",
    "forest_model = pd.DataFrame([['Random Forest', forest_train, forest_test]],\n",
    "               columns = ['Model', 'Train', 'Test'])\n",
    "scores = scores.append(forest_model, ignore_index = True)\n",
    "scores"
   ]
  },
  {
   "cell_type": "markdown",
   "metadata": {},
   "source": [
    "**Grid Search Random Forest Model**"
   ]
  },
  {
   "cell_type": "code",
   "execution_count": 62,
   "metadata": {},
   "outputs": [],
   "source": [
    "#get dict of params\n",
    "rf_param_grid = {\n",
    "    'bootstrap': [True],\n",
    "    'max_depth': [5, 10, 20, 50],\n",
    "    'max_features': [2, 3],\n",
    "    'min_samples_leaf': [3, 4, 5],\n",
    "    'min_samples_split': [8, 10, 12],\n",
    "    'n_estimators': [50, 100, 200, 300],\n",
    "    'random_state': [4], \n",
    "    'class_weight':['balanced']\n",
    "}\n",
    "\n",
    "#instantiate the grid search \n",
    "forest_grid_search = GridSearchCV(estimator = forest, param_grid = rf_param_grid, \n",
    "                          cv = 3, n_jobs = -1, verbose = 2, scoring = custom_scorer)"
   ]
  },
  {
   "cell_type": "code",
   "execution_count": 63,
   "metadata": {},
   "outputs": [
    {
     "name": "stdout",
     "output_type": "stream",
     "text": [
      "Fitting 3 folds for each of 288 candidates, totalling 864 fits\n"
     ]
    },
    {
     "name": "stderr",
     "output_type": "stream",
     "text": [
      "[Parallel(n_jobs=-1)]: Using backend LokyBackend with 4 concurrent workers.\n",
      "[Parallel(n_jobs=-1)]: Done  33 tasks      | elapsed:   17.7s\n",
      "[Parallel(n_jobs=-1)]: Done 154 tasks      | elapsed:  1.4min\n",
      "[Parallel(n_jobs=-1)]: Done 357 tasks      | elapsed:  3.5min\n",
      "[Parallel(n_jobs=-1)]: Done 640 tasks      | elapsed:  7.5min\n",
      "[Parallel(n_jobs=-1)]: Done 864 out of 864 | elapsed: 12.2min finished\n"
     ]
    },
    {
     "data": {
      "text/plain": [
       "GridSearchCV(cv=3,\n",
       "             estimator=RandomForestClassifier(class_weight='balanced',\n",
       "                                              random_state=4),\n",
       "             n_jobs=-1,\n",
       "             param_grid={'bootstrap': [True], 'class_weight': ['balanced'],\n",
       "                         'max_depth': [5, 10, 20, 50], 'max_features': [2, 3],\n",
       "                         'min_samples_leaf': [3, 4, 5],\n",
       "                         'min_samples_split': [8, 10, 12],\n",
       "                         'n_estimators': [50, 100, 200, 300],\n",
       "                         'random_state': [4]},\n",
       "             scoring=make_scorer(f1_score, pos_label=1), verbose=2)"
      ]
     },
     "execution_count": 63,
     "metadata": {},
     "output_type": "execute_result"
    }
   ],
   "source": [
    "#fit grid search\n",
    "forest_grid_search.fit(X_train, y_train)"
   ]
  },
  {
   "cell_type": "code",
   "execution_count": 64,
   "metadata": {},
   "outputs": [],
   "source": [
    "#instantiate with best params model\n",
    "gs_forest = forest_grid_search.best_estimator_"
   ]
  },
  {
   "cell_type": "code",
   "execution_count": 65,
   "metadata": {},
   "outputs": [
    {
     "data": {
      "text/plain": [
       "RandomForestClassifier(class_weight='balanced', max_depth=50, max_features=2,\n",
       "                       min_samples_leaf=3, min_samples_split=12,\n",
       "                       n_estimators=200, random_state=4)"
      ]
     },
     "execution_count": 65,
     "metadata": {},
     "output_type": "execute_result"
    }
   ],
   "source": [
    "#fit with best params model\n",
    "gs_forest.fit(X_train, y_train)"
   ]
  },
  {
   "cell_type": "code",
   "execution_count": 66,
   "metadata": {},
   "outputs": [],
   "source": [
    "#predict with model\n",
    "gs_forest_pred_train = gs_forest.predict(X_train)\n",
    "gs_forest_pred_test = gs_forest.predict(X_test)"
   ]
  },
  {
   "cell_type": "code",
   "execution_count": 67,
   "metadata": {},
   "outputs": [],
   "source": [
    "#get f1 score\n",
    "gs_forest_train = f1_score(y_train, gs_forest_pred_train, pos_label = '1')\n",
    "gs_forest_test = f1_score(y_test, gs_forest_pred_test, pos_label = '1')"
   ]
  },
  {
   "cell_type": "code",
   "execution_count": 68,
   "metadata": {},
   "outputs": [
    {
     "data": {
      "text/html": [
       "<div>\n",
       "<style scoped>\n",
       "    .dataframe tbody tr th:only-of-type {\n",
       "        vertical-align: middle;\n",
       "    }\n",
       "\n",
       "    .dataframe tbody tr th {\n",
       "        vertical-align: top;\n",
       "    }\n",
       "\n",
       "    .dataframe thead th {\n",
       "        text-align: right;\n",
       "    }\n",
       "</style>\n",
       "<table border=\"1\" class=\"dataframe\">\n",
       "  <thead>\n",
       "    <tr style=\"text-align: right;\">\n",
       "      <th></th>\n",
       "      <th>Model</th>\n",
       "      <th>Train</th>\n",
       "      <th>Test</th>\n",
       "    </tr>\n",
       "  </thead>\n",
       "  <tbody>\n",
       "    <tr>\n",
       "      <th>0</th>\n",
       "      <td>Logistic Regression</td>\n",
       "      <td>0.396536</td>\n",
       "      <td>0.373180</td>\n",
       "    </tr>\n",
       "    <tr>\n",
       "      <th>1</th>\n",
       "      <td>Grid Search Logistic Regression</td>\n",
       "      <td>0.534077</td>\n",
       "      <td>0.516277</td>\n",
       "    </tr>\n",
       "    <tr>\n",
       "      <th>2</th>\n",
       "      <td>KNN</td>\n",
       "      <td>0.430023</td>\n",
       "      <td>0.248096</td>\n",
       "    </tr>\n",
       "    <tr>\n",
       "      <th>3</th>\n",
       "      <td>KNN SMOTE</td>\n",
       "      <td>0.856384</td>\n",
       "      <td>0.367676</td>\n",
       "    </tr>\n",
       "    <tr>\n",
       "      <th>4</th>\n",
       "      <td>Grid Search KNN SMOTE</td>\n",
       "      <td>0.999656</td>\n",
       "      <td>0.348407</td>\n",
       "    </tr>\n",
       "    <tr>\n",
       "      <th>5</th>\n",
       "      <td>Decision Tree</td>\n",
       "      <td>0.998684</td>\n",
       "      <td>0.389431</td>\n",
       "    </tr>\n",
       "    <tr>\n",
       "      <th>6</th>\n",
       "      <td>Grid Search Decision Tree</td>\n",
       "      <td>0.539545</td>\n",
       "      <td>0.511298</td>\n",
       "    </tr>\n",
       "    <tr>\n",
       "      <th>7</th>\n",
       "      <td>Random Forest</td>\n",
       "      <td>0.998815</td>\n",
       "      <td>0.469792</td>\n",
       "    </tr>\n",
       "    <tr>\n",
       "      <th>8</th>\n",
       "      <td>Grid Search Random Forest</td>\n",
       "      <td>0.639910</td>\n",
       "      <td>0.532659</td>\n",
       "    </tr>\n",
       "  </tbody>\n",
       "</table>\n",
       "</div>"
      ],
      "text/plain": [
       "                             Model     Train      Test\n",
       "0              Logistic Regression  0.396536  0.373180\n",
       "1  Grid Search Logistic Regression  0.534077  0.516277\n",
       "2                              KNN  0.430023  0.248096\n",
       "3                        KNN SMOTE  0.856384  0.367676\n",
       "4            Grid Search KNN SMOTE  0.999656  0.348407\n",
       "5                    Decision Tree  0.998684  0.389431\n",
       "6        Grid Search Decision Tree  0.539545  0.511298\n",
       "7                    Random Forest  0.998815  0.469792\n",
       "8        Grid Search Random Forest  0.639910  0.532659"
      ]
     },
     "execution_count": 68,
     "metadata": {},
     "output_type": "execute_result"
    }
   ],
   "source": [
    "#add scores to df\n",
    "gs_forest_model = pd.DataFrame([['Grid Search Random Forest', gs_forest_train, gs_forest_test]],\n",
    "               columns = ['Model', 'Train', 'Test'])\n",
    "scores = scores.append(gs_forest_model, ignore_index = True)\n",
    "scores"
   ]
  },
  {
   "cell_type": "markdown",
   "metadata": {},
   "source": [
    "The model with the highest F1 score on the test set is the Grid Search Random Forest Model. While some other models had higher F1 scores on the train set, they had lower F1 scores on the test data, signifying overfitting. "
   ]
  },
  {
   "cell_type": "markdown",
   "metadata": {},
   "source": [
    "## Final Model"
   ]
  },
  {
   "cell_type": "markdown",
   "metadata": {},
   "source": [
    "The Grid Search Random Forest model is the final model picked based off the results above. This model has F1 scores of about 0.64 on the train data and 0.53 on the test data. This model is deemed the best model since this model gives the highest F1 score on the test data. "
   ]
  },
  {
   "cell_type": "code",
   "execution_count": 69,
   "metadata": {},
   "outputs": [
    {
     "data": {
      "image/png": "[encoded data removed]",
      "text/plain": [
       "<Figure size 432x288 with 2 Axes>"
      ]
     },
     "metadata": {},
     "output_type": "display_data"
    }
   ],
   "source": [
    "plot_confusion_matrix(gs_forest, X_test, y_test, cmap=\"YlGnBu\");"
   ]
  },
  {
   "cell_type": "markdown",
   "metadata": {},
   "source": [
    "## Next Steps\n",
    "\n",
    "Further analysis could benefit from the following:\n",
    "  - Engineering features in order to better predict if a customer with default\n",
    "  - Adding more models such as a XGBoost model to try and generate a higher F1 score\n",
    "  - Running model on more unseen data"
   ]
  }
 ],
 "metadata": {
  "kernelspec": {
   "display_name": "learn-env",
   "language": "python",
   "name": "learn-env"
  },
  "language_info": {
   "codemirror_mode": {
    "name": "ipython",
    "version": 3
   },
   "file_extension": ".py",
   "mimetype": "text/x-python",
   "name": "python",
   "nbconvert_exporter": "python",
   "pygments_lexer": "ipython3",
   "version": "3.8.5"
  }
 },
 "nbformat": 4,
 "nbformat_minor": 4
}
